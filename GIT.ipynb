{
  "nbformat": 4,
  "nbformat_minor": 0,
  "metadata": {
    "colab": {
      "name": "GIT.ipynb",
      "provenance": [],
      "authorship_tag": "ABX9TyMQtTXcVfUvSD32RV2uC3U5",
      "include_colab_link": true
    },
    "kernelspec": {
      "name": "python3",
      "display_name": "Python 3"
    }
  },
  "cells": [
    {
      "cell_type": "markdown",
      "metadata": {
        "id": "view-in-github",
        "colab_type": "text"
      },
      "source": [
        "<a href=\"https://colab.research.google.com/github/Jeffry-ux/HOgit/blob/master/GIT.ipynb\" target=\"_parent\"><img src=\"https://colab.research.google.com/assets/colab-badge.svg\" alt=\"Open In Colab\"/></a>"
      ]
    },
    {
      "cell_type": "markdown",
      "metadata": {
        "id": "cQEfVM6wkyLU"
      },
      "source": [
        "**Montamos la carpeta de GIT del Drive**"
      ]
    },
    {
      "cell_type": "code",
      "metadata": {
        "colab": {
          "base_uri": "https://localhost:8080/"
        },
        "id": "LSjHn3wENlav",
        "outputId": "b265ff52-fc9d-4ed6-cd79-517bbbaef3d7"
      },
      "source": [
        "from google.colab import drive\n",
        "drive.mount('/content/drive')"
      ],
      "execution_count": 1,
      "outputs": [
        {
          "output_type": "stream",
          "text": [
            "Mounted at /content/drive\n"
          ],
          "name": "stdout"
        }
      ]
    },
    {
      "cell_type": "code",
      "metadata": {
        "colab": {
          "base_uri": "https://localhost:8080/"
        },
        "id": "-odQh96tN3Zb",
        "outputId": "d572ad97-566f-4e07-a5a0-ca4d4ec32f75"
      },
      "source": [
        "%cd /content/drive/My Drive/TDPC/GIT/"
      ],
      "execution_count": 2,
      "outputs": [
        {
          "output_type": "stream",
          "text": [
            "/content/drive/My Drive/TDPC/GIT\n"
          ],
          "name": "stdout"
        }
      ]
    },
    {
      "cell_type": "markdown",
      "metadata": {
        "id": "lElChSASkiBM"
      },
      "source": [
        "**Clonamos un repositorio de github con sólo un README**"
      ]
    },
    {
      "cell_type": "code",
      "metadata": {
        "colab": {
          "base_uri": "https://localhost:8080/"
        },
        "id": "KVfg7NnTN6Hi",
        "outputId": "6d9b2ab2-bf85-47d3-bf69-7b1fa5a8f4f6"
      },
      "source": [
        "!git clone https://github.com/wtpc/HOgit.git"
      ],
      "execution_count": 3,
      "outputs": [
        {
          "output_type": "stream",
          "text": [
            "Cloning into 'HOgit'...\n",
            "remote: Enumerating objects: 21, done.\u001b[K\n",
            "remote: Total 21 (delta 0), reused 0 (delta 0), pack-reused 21\u001b[K\n",
            "Unpacking objects: 100% (21/21), done.\n"
          ],
          "name": "stdout"
        }
      ]
    },
    {
      "cell_type": "code",
      "metadata": {
        "colab": {
          "base_uri": "https://localhost:8080/"
        },
        "id": "GHxrKQehOEGx",
        "outputId": "bb78302d-4d24-4449-c25e-e3a82299ca18"
      },
      "source": [
        "%ls"
      ],
      "execution_count": 4,
      "outputs": [
        {
          "output_type": "stream",
          "text": [
            "GIT.ipynb  \u001b[0m\u001b[01;34mHOgit\u001b[0m/\n"
          ],
          "name": "stdout"
        }
      ]
    },
    {
      "cell_type": "markdown",
      "metadata": {
        "id": "-k1vCGbHlBbT"
      },
      "source": [
        "**Editamos el archivo de README y hacemos un nuevo commit**"
      ]
    },
    {
      "cell_type": "code",
      "metadata": {
        "id": "6dNtX3QHPAv6"
      },
      "source": [
        "!echo \"#Primera edición\" >> HOgit/README.md ;"
      ],
      "execution_count": 5,
      "outputs": []
    },
    {
      "cell_type": "code",
      "metadata": {
        "colab": {
          "base_uri": "https://localhost:8080/"
        },
        "id": "3xKUwMXyPK_a",
        "outputId": "481bcd6f-1d2a-47c6-fc48-b0cbea44cc8a"
      },
      "source": [
        "!cat HOgit/README.md"
      ],
      "execution_count": 6,
      "outputs": [
        {
          "output_type": "stream",
          "text": [
            "# HOgit\n",
            "Repositorio con ejercicios para practicar comandos básicos de git\n",
            "\n",
            "## Qué podemos hacer\n",
            "\n",
            "### Commits\n",
            "Modificar un archivo y agregarlo al repositorio como un nuevo commit\n",
            "\n",
            "### Branches\n",
            "Creamos un branch acerca de las charlas, y decimos que nos parecen buenísimas\n",
            "Pasos con los que armamos el repo de github de HOgit.\n",
            "\n",
            "\n",
            "## Cómo creamos este repositorio\n",
            "\n",
            "Inicialmente estaba creado en github (desde la WEB) con \n",
            "sólo un README. EN cualquier lugar pueden (y deberían!)\n",
            "correr `git status` y `git branch -a` para chequear\n",
            "en qué estado está el repositorio y en qué branch están:\n",
            "\n",
            "\n",
            "Clonamos un repositorio de github con sólo un README\n",
            "\n",
            "```\n",
            "git clone https://github.com/wtpc/HOgit.git\n",
            "cd HOgit\n",
            "```\n",
            "\n",
            "Editamos el archivo de README y hacemos un nuevo commit\n",
            "\n",
            "```\n",
            "vi README.md\n",
            ".........\n",
            "git add README.md\n",
            "git commit\n",
            "```\n",
            "\n",
            "Ya hay un nuevo snapshot. Ahora creamos una branch\n",
            "\n",
            "```\n",
            "git branch charlas\n",
            "```\n",
            "\n",
            "y nos movemos a ella\n",
            "\n",
            "```\n",
            "git checkout charlas\n",
            "```\n",
            "\n",
            "en esta branch, editamos README.md de nuevp\n",
            "\n",
            "```\n",
            "vi README.md\n",
            "...\n",
            "git add README.md\n",
            "git commit\n",
            "```\n",
            "\n",
            "ahora vamos a master (que no tiene estos cambios, porque es otra branch!)\n",
            "\n",
            "```\n",
            "git checkout master\n",
            "```\n",
            "\n",
            "y a partir de master creamos una nueva branch\n",
            "\n",
            "```\n",
            "git branch ejercicios\n",
            "git checkout ejercicios\n",
            "```\n",
            "\n",
            "editamos un archivo nuevo, ejercicios.md\n",
            "\n",
            "```\n",
            "vi ejercicios.md\n",
            "...\n",
            "git add ejercicios.md\n",
            "git commit\n",
            "```\n",
            "\n",
            "Y ahora, en master, hacemos un merge de ambas branches por separado:\n",
            "(fíjense que no importa que el orden sea el mismo que en el que \n",
            "las modificamos. es sensato porque las branches no se comunican)\n",
            "\n",
            "```\n",
            "git merge --no-ff ejercicios\n",
            "git merge --no-ff charlas\n",
            "```\n",
            "\n",
            "la opción --no-ff sirve para que no \"mezcle\" las dos branches, y queda más prolijo el network. recomienod que la usen siempre, pero no es fundamental.\n",
            "\n",
            "si quieren ver cómo quedó la historia del repo:\n",
            "\n",
            "```\n",
            "git log --oneline --graph\n",
            "```\n",
            "\n",
            "finalmente, hacemos un push de todas las branches:\n",
            "\n",
            "```\n",
            "git push -u origin master\n",
            "git push -u origin ejercicios\n",
            "git push -u origin charlas\n",
            "```\n",
            "\n",
            "y listo! en nuestra cuenta de github ya tiene que estar subido. pueden ver el network de github que les va a mostrar la historia\n",
            "\n",
            "Luego también editamos este readme para agregar los comandos con los que hicimos el repositorio\n",
            "\n",
            "\n",
            "```\n",
            "vi README.md\n",
            "...\n",
            "git add README.md\n",
            "git commit\n",
            "```\n",
            "\n",
            "y el push\n",
            "\n",
            "```\n",
            "git push\n",
            "```\n",
            "#Primera edición\n"
          ],
          "name": "stdout"
        }
      ]
    },
    {
      "cell_type": "markdown",
      "metadata": {
        "id": "Vm3XjMmola5j"
      },
      "source": [
        "**Se puede verificar que hemos agregado una línea nueva \"#Primera edición\" al archivo README**"
      ]
    },
    {
      "cell_type": "markdown",
      "metadata": {
        "id": "l1p1jb-OmMKy"
      },
      "source": [
        "-----------------------------------------------------------------------------\n",
        " **Hacemos un nuevo commit**"
      ]
    },
    {
      "cell_type": "code",
      "metadata": {
        "colab": {
          "base_uri": "https://localhost:8080/"
        },
        "id": "HuYkvvoOPN47",
        "outputId": "1996cdfa-6c49-4b14-f2f3-ffe2f14c0814"
      },
      "source": [
        "%cd HOgit/\n",
        "!pwd\n",
        "!git config --global user.email \"jeffry.acm10@gmail.com\"\n",
        "!git config --global user.name \"Jeffry-ux\"\n",
        "!git add README.md\n",
        "!git commit -m \"Primera modificación de archivo\"\n",
        "!git commit"
      ],
      "execution_count": 7,
      "outputs": [
        {
          "output_type": "stream",
          "text": [
            "/content/drive/My Drive/TDPC/GIT/HOgit\n",
            "/content/drive/My Drive/TDPC/GIT/HOgit\n",
            "[master 03ba4f9] Primera modificación de archivo\n",
            " 1 file changed, 1 insertion(+)\n",
            "On branch master\n",
            "Your branch is ahead of 'origin/master' by 1 commit.\n",
            "  (use \"git push\" to publish your local commits)\n",
            "\n",
            "nothing to commit, working tree clean\n"
          ],
          "name": "stdout"
        }
      ]
    },
    {
      "cell_type": "markdown",
      "metadata": {
        "id": "w6pDFd1InSDE"
      },
      "source": [
        "-----------------------------------------------------------------------------\n",
        "**Ya hay un nuevo snapshot. Ahora creamos una branch**"
      ]
    },
    {
      "cell_type": "code",
      "metadata": {
        "id": "zfRf21MqP8GC"
      },
      "source": [
        "!git branch charlas"
      ],
      "execution_count": 8,
      "outputs": []
    },
    {
      "cell_type": "code",
      "metadata": {
        "colab": {
          "base_uri": "https://localhost:8080/"
        },
        "id": "bLWyqSDvZglC",
        "outputId": "b5d44b9b-3b6e-4060-fff2-590467613415"
      },
      "source": [
        "!git checkout charlas"
      ],
      "execution_count": 9,
      "outputs": [
        {
          "output_type": "stream",
          "text": [
            "Switched to branch 'charlas'\n"
          ],
          "name": "stdout"
        }
      ]
    },
    {
      "cell_type": "code",
      "metadata": {
        "id": "Qsf70OBmZobK"
      },
      "source": [
        "!echo \"#Segunda edición\" >> README.md ;"
      ],
      "execution_count": 10,
      "outputs": []
    },
    {
      "cell_type": "code",
      "metadata": {
        "colab": {
          "base_uri": "https://localhost:8080/"
        },
        "id": "AXE6d7RfZw26",
        "outputId": "ac193c45-fe3b-4a74-971f-70dc45835ba4"
      },
      "source": [
        "!cat README.md"
      ],
      "execution_count": 11,
      "outputs": [
        {
          "output_type": "stream",
          "text": [
            "# HOgit\n",
            "Repositorio con ejercicios para practicar comandos básicos de git\n",
            "\n",
            "## Qué podemos hacer\n",
            "\n",
            "### Commits\n",
            "Modificar un archivo y agregarlo al repositorio como un nuevo commit\n",
            "\n",
            "### Branches\n",
            "Creamos un branch acerca de las charlas, y decimos que nos parecen buenísimas\n",
            "Pasos con los que armamos el repo de github de HOgit.\n",
            "\n",
            "\n",
            "## Cómo creamos este repositorio\n",
            "\n",
            "Inicialmente estaba creado en github (desde la WEB) con \n",
            "sólo un README. EN cualquier lugar pueden (y deberían!)\n",
            "correr `git status` y `git branch -a` para chequear\n",
            "en qué estado está el repositorio y en qué branch están:\n",
            "\n",
            "\n",
            "Clonamos un repositorio de github con sólo un README\n",
            "\n",
            "```\n",
            "git clone https://github.com/wtpc/HOgit.git\n",
            "cd HOgit\n",
            "```\n",
            "\n",
            "Editamos el archivo de README y hacemos un nuevo commit\n",
            "\n",
            "```\n",
            "vi README.md\n",
            ".........\n",
            "git add README.md\n",
            "git commit\n",
            "```\n",
            "\n",
            "Ya hay un nuevo snapshot. Ahora creamos una branch\n",
            "\n",
            "```\n",
            "git branch charlas\n",
            "```\n",
            "\n",
            "y nos movemos a ella\n",
            "\n",
            "```\n",
            "git checkout charlas\n",
            "```\n",
            "\n",
            "en esta branch, editamos README.md de nuevp\n",
            "\n",
            "```\n",
            "vi README.md\n",
            "...\n",
            "git add README.md\n",
            "git commit\n",
            "```\n",
            "\n",
            "ahora vamos a master (que no tiene estos cambios, porque es otra branch!)\n",
            "\n",
            "```\n",
            "git checkout master\n",
            "```\n",
            "\n",
            "y a partir de master creamos una nueva branch\n",
            "\n",
            "```\n",
            "git branch ejercicios\n",
            "git checkout ejercicios\n",
            "```\n",
            "\n",
            "editamos un archivo nuevo, ejercicios.md\n",
            "\n",
            "```\n",
            "vi ejercicios.md\n",
            "...\n",
            "git add ejercicios.md\n",
            "git commit\n",
            "```\n",
            "\n",
            "Y ahora, en master, hacemos un merge de ambas branches por separado:\n",
            "(fíjense que no importa que el orden sea el mismo que en el que \n",
            "las modificamos. es sensato porque las branches no se comunican)\n",
            "\n",
            "```\n",
            "git merge --no-ff ejercicios\n",
            "git merge --no-ff charlas\n",
            "```\n",
            "\n",
            "la opción --no-ff sirve para que no \"mezcle\" las dos branches, y queda más prolijo el network. recomienod que la usen siempre, pero no es fundamental.\n",
            "\n",
            "si quieren ver cómo quedó la historia del repo:\n",
            "\n",
            "```\n",
            "git log --oneline --graph\n",
            "```\n",
            "\n",
            "finalmente, hacemos un push de todas las branches:\n",
            "\n",
            "```\n",
            "git push -u origin master\n",
            "git push -u origin ejercicios\n",
            "git push -u origin charlas\n",
            "```\n",
            "\n",
            "y listo! en nuestra cuenta de github ya tiene que estar subido. pueden ver el network de github que les va a mostrar la historia\n",
            "\n",
            "Luego también editamos este readme para agregar los comandos con los que hicimos el repositorio\n",
            "\n",
            "\n",
            "```\n",
            "vi README.md\n",
            "...\n",
            "git add README.md\n",
            "git commit\n",
            "```\n",
            "\n",
            "y el push\n",
            "\n",
            "```\n",
            "git push\n",
            "```\n",
            "#Primera edición\n",
            "#Segunda edición\n"
          ],
          "name": "stdout"
        }
      ]
    },
    {
      "cell_type": "markdown",
      "metadata": {
        "id": "Ia4ToaoWnx80"
      },
      "source": [
        "**Se puede verificar que hemos agregado una línea nueva \"#Segunda edición\" al archivo README en esta nueva rama**"
      ]
    },
    {
      "cell_type": "markdown",
      "metadata": {
        "id": "0HkUcemtnoUz"
      },
      "source": [
        "-----------------------------------------------------------------------------\n",
        "**Hacemos un nuevo commit para esta nueva rama**"
      ]
    },
    {
      "cell_type": "code",
      "metadata": {
        "colab": {
          "base_uri": "https://localhost:8080/"
        },
        "id": "8mWHG0LiZ2I9",
        "outputId": "47b17bdd-44c7-40f4-fc7e-74d55a57aa64"
      },
      "source": [
        "!git config --global user.email \"jeffry.acm10@gmail.com\"\n",
        "!git config --global user.name \"Jeffry-ux\"\n",
        "!git add README.md\n",
        "!git commit -m \"Segunda modificación de archivo\"\n",
        "!git commit"
      ],
      "execution_count": 12,
      "outputs": [
        {
          "output_type": "stream",
          "text": [
            "[charlas 3fc3c04] Segunda modificación de archivo\n",
            " 1 file changed, 1 insertion(+)\n",
            "On branch charlas\n",
            "nothing to commit, working tree clean\n"
          ],
          "name": "stdout"
        }
      ]
    },
    {
      "cell_type": "markdown",
      "metadata": {
        "id": "9kQlF2MnpwD9"
      },
      "source": [
        "-----------------------------------------------------------------------------\n",
        "**Regresamos a la línea master para crear otras ramas**"
      ]
    },
    {
      "cell_type": "code",
      "metadata": {
        "colab": {
          "base_uri": "https://localhost:8080/"
        },
        "id": "OJLLOaNtaN6r",
        "outputId": "3c30df68-b3be-4709-dc87-1d6bfae1ebfe"
      },
      "source": [
        "!git checkout master"
      ],
      "execution_count": 13,
      "outputs": [
        {
          "output_type": "stream",
          "text": [
            "Switched to branch 'master'\n",
            "Your branch is ahead of 'origin/master' by 1 commit.\n",
            "  (use \"git push\" to publish your local commits)\n"
          ],
          "name": "stdout"
        }
      ]
    },
    {
      "cell_type": "markdown",
      "metadata": {
        "id": "ZM3PMMPtqM41"
      },
      "source": [
        "**Creamos la nueva rama, e ingresamos en la misma**"
      ]
    },
    {
      "cell_type": "code",
      "metadata": {
        "id": "Eh54cx0ca5hS"
      },
      "source": [
        "!git branch ejercicios"
      ],
      "execution_count": 14,
      "outputs": []
    },
    {
      "cell_type": "code",
      "metadata": {
        "colab": {
          "base_uri": "https://localhost:8080/"
        },
        "id": "sTsS6QVTa7YS",
        "outputId": "3680bc1e-6ec1-4e53-f1ff-4cdbc4ffd221"
      },
      "source": [
        "!git checkout ejercicios"
      ],
      "execution_count": 15,
      "outputs": [
        {
          "output_type": "stream",
          "text": [
            "Switched to branch 'ejercicios'\n"
          ],
          "name": "stdout"
        }
      ]
    },
    {
      "cell_type": "code",
      "metadata": {
        "id": "PIVa_p0PbIrT"
      },
      "source": [
        "!echo \"Modificación ejercicios\" >> ejercicios.md ; "
      ],
      "execution_count": 16,
      "outputs": []
    },
    {
      "cell_type": "code",
      "metadata": {
        "colab": {
          "base_uri": "https://localhost:8080/"
        },
        "id": "QAVgb1lRbb8z",
        "outputId": "b95a8eb8-e06d-4d3e-aa43-2cc0b8649abf"
      },
      "source": [
        " !cat ejercicios.md"
      ],
      "execution_count": 17,
      "outputs": [
        {
          "output_type": "stream",
          "text": [
            "#Qué opinamos de los ejercicios?\n",
            "\n",
            "Incluso mejor que las charlas!\n",
            "\n",
            "Modificación ejercicios\n"
          ],
          "name": "stdout"
        }
      ]
    },
    {
      "cell_type": "markdown",
      "metadata": {
        "id": "vIqUDfElqz5E"
      },
      "source": [
        "**Se puede verificar que hemos modificado el arhivo \"ejercicios\" agregando una línea nueva.**"
      ]
    },
    {
      "cell_type": "markdown",
      "metadata": {
        "id": "QegLeP4SrKvz"
      },
      "source": [
        "-----------------------------------------------------------------------------\n",
        "**Hacemos un nuevo commit para esta nueva rama**\n",
        "\n"
      ]
    },
    {
      "cell_type": "code",
      "metadata": {
        "colab": {
          "base_uri": "https://localhost:8080/"
        },
        "id": "IJpd93bWblor",
        "outputId": "27df268b-4e9e-468d-d5a0-8337f4a201a1"
      },
      "source": [
        "!git config --global user.email \"jeffry.acm10@gmail@gmail.com\"\n",
        "!git config --global user.name \"Jeffry-ux\"\n",
        "!git add ejercicios.md\n",
        "!git commit -m \"Modificación del archico ejercicios\"\n",
        "!git commit"
      ],
      "execution_count": 18,
      "outputs": [
        {
          "output_type": "stream",
          "text": [
            "[ejercicios c57671d] Modificación del archico ejercicios\n",
            " 1 file changed, 1 insertion(+)\n",
            "On branch ejercicios\n",
            "nothing to commit, working tree clean\n"
          ],
          "name": "stdout"
        }
      ]
    },
    {
      "cell_type": "markdown",
      "metadata": {
        "id": "oBhzzBUIreMz"
      },
      "source": [
        "**Regresamos a la línea máster**"
      ]
    },
    {
      "cell_type": "code",
      "metadata": {
        "colab": {
          "base_uri": "https://localhost:8080/"
        },
        "id": "IgJLwISbcFEK",
        "outputId": "e2099b5e-7d9b-4330-9ba1-960083bbd692"
      },
      "source": [
        "!git checkout master"
      ],
      "execution_count": 19,
      "outputs": [
        {
          "output_type": "stream",
          "text": [
            "Switched to branch 'master'\n",
            "Your branch is ahead of 'origin/master' by 1 commit.\n",
            "  (use \"git push\" to publish your local commits)\n"
          ],
          "name": "stdout"
        }
      ]
    },
    {
      "cell_type": "markdown",
      "metadata": {
        "id": "WOMCXzGgrrjj"
      },
      "source": [
        "-----------------------------------------------------------------------------\n",
        "**Y ahora, en master, hacemos un merge de ambas branches por separado:**"
      ]
    },
    {
      "cell_type": "code",
      "metadata": {
        "colab": {
          "base_uri": "https://localhost:8080/"
        },
        "id": "rBCgpoyQdXoj",
        "outputId": "f96e6e64-487e-42af-baa4-bec63f527105"
      },
      "source": [
        "!git commit -m \"merge de ambas branches por separado\"\n",
        "!git commit\n",
        "\n"
      ],
      "execution_count": 21,
      "outputs": [
        {
          "output_type": "stream",
          "text": [
            "[master 9276a00] merge de ambas branches por separado\n",
            "On branch master\n",
            "Your branch is ahead of 'origin/master' by 3 commits.\n",
            "  (use \"git push\" to publish your local commits)\n",
            "\n",
            "nothing to commit, working tree clean\n"
          ],
          "name": "stdout"
        }
      ]
    },
    {
      "cell_type": "code",
      "metadata": {
        "colab": {
          "base_uri": "https://localhost:8080/"
        },
        "id": "lDUp8eDadnyL",
        "outputId": "37271953-c741-4512-c716-557880673228"
      },
      "source": [
        "!git merge --no-ff ejercicios"
      ],
      "execution_count": 22,
      "outputs": [
        {
          "output_type": "stream",
          "text": [
            "Already up to date.\n"
          ],
          "name": "stdout"
        }
      ]
    },
    {
      "cell_type": "code",
      "metadata": {
        "colab": {
          "base_uri": "https://localhost:8080/"
        },
        "id": "iUL72T2vey3a",
        "outputId": "f35bd5a1-020d-4a90-8c3f-3b21fa96088f"
      },
      "source": [
        "!git commit -m \"merge de ambas branches por separado\"\n",
        "!git commit"
      ],
      "execution_count": 27,
      "outputs": [
        {
          "output_type": "stream",
          "text": [
            "[master 696f64c] merge de ambas branches por separado\n",
            "On branch master\n",
            "Your branch is ahead of 'origin/master' by 5 commits.\n",
            "  (use \"git push\" to publish your local commits)\n",
            "\n",
            "nothing to commit, working tree clean\n"
          ],
          "name": "stdout"
        }
      ]
    },
    {
      "cell_type": "code",
      "metadata": {
        "colab": {
          "base_uri": "https://localhost:8080/"
        },
        "id": "HeoNUl8Be5Ez",
        "outputId": "69b7c08b-3d21-490c-923c-d724ad1684be"
      },
      "source": [
        "!git merge --no-ff charlas"
      ],
      "execution_count": 28,
      "outputs": [
        {
          "output_type": "stream",
          "text": [
            "Already up to date.\n"
          ],
          "name": "stdout"
        }
      ]
    },
    {
      "cell_type": "markdown",
      "metadata": {
        "id": "L0xsMgjQsGBD"
      },
      "source": [
        "-----------------------------------------------------------------------------\n",
        "**Observamos como quedó la historia del repositorio**"
      ]
    },
    {
      "cell_type": "code",
      "metadata": {
        "colab": {
          "base_uri": "https://localhost:8080/"
        },
        "id": "YBGB5tfVe9xK",
        "outputId": "e04524a5-3cd2-4330-a71f-1c762a152c19"
      },
      "source": [
        "!git log --oneline --graph"
      ],
      "execution_count": 29,
      "outputs": [
        {
          "output_type": "stream",
          "text": [
            "*   \u001b[33m696f64c\u001b[m\u001b[33m (\u001b[m\u001b[1;36mHEAD -> \u001b[m\u001b[1;32mmaster\u001b[m\u001b[33m)\u001b[m merge de ambas branches por separado\n",
            "\u001b[31m|\u001b[m\u001b[32m\\\u001b[m  \n",
            "\u001b[31m|\u001b[m * \u001b[33m3fc3c04\u001b[m\u001b[33m (\u001b[m\u001b[1;32mcharlas\u001b[m\u001b[33m)\u001b[m Segunda modificación de archivo\n",
            "* \u001b[32m|\u001b[m   \u001b[33m9276a00\u001b[m merge de ambas branches por separado\n",
            "\u001b[32m|\u001b[m\u001b[34m\\\u001b[m \u001b[32m\\\u001b[m  \n",
            "\u001b[32m|\u001b[m \u001b[34m|\u001b[m\u001b[32m/\u001b[m  \n",
            "\u001b[32m|\u001b[m\u001b[32m/\u001b[m\u001b[34m|\u001b[m   \n",
            "\u001b[32m|\u001b[m * \u001b[33mc57671d\u001b[m\u001b[33m (\u001b[m\u001b[1;32mejercicios\u001b[m\u001b[33m)\u001b[m Modificación del archico ejercicios\n",
            "\u001b[32m|\u001b[m\u001b[32m/\u001b[m  \n",
            "* \u001b[33m03ba4f9\u001b[m Primera modificación de archivo\n",
            "* \u001b[33m373ee43\u001b[m\u001b[33m (\u001b[m\u001b[1;31morigin/master\u001b[m\u001b[33m, \u001b[m\u001b[1;31morigin/HEAD\u001b[m\u001b[33m)\u001b[m Cambiado protocolo por defecto a https\n",
            "* \u001b[33med74bb6\u001b[m Agregados comandos\n",
            "*   \u001b[33m5339e09\u001b[m Merge branch 'charlas'\n",
            "\u001b[35m|\u001b[m\u001b[36m\\\u001b[m  \n",
            "\u001b[35m|\u001b[m * \u001b[33m5ffe580\u001b[m\u001b[33m (\u001b[m\u001b[1;31morigin/charlas\u001b[m\u001b[33m)\u001b[m Más cosas de git!\n",
            "* \u001b[36m|\u001b[m   \u001b[33mab6622e\u001b[m Merge branch 'ejercicios'\n",
            "\u001b[36m|\u001b[m\u001b[1;32m\\\u001b[m \u001b[36m\\\u001b[m  \n",
            "\u001b[36m|\u001b[m \u001b[1;32m|\u001b[m\u001b[36m/\u001b[m  \n",
            "\u001b[36m|\u001b[m\u001b[36m/\u001b[m\u001b[1;32m|\u001b[m   \n",
            "\u001b[36m|\u001b[m * \u001b[33mc0e2aa2\u001b[m\u001b[33m (\u001b[m\u001b[1;31morigin/ejercicios\u001b[m\u001b[33m)\u001b[m Agregamos un nuevo archivo\n",
            "\u001b[36m|\u001b[m\u001b[36m/\u001b[m  \n",
            "* \u001b[33m0896d0e\u001b[m Info de qué hacer\n",
            "* \u001b[33mde70e76\u001b[m Initial commit\n"
          ],
          "name": "stdout"
        }
      ]
    }
  ]
}